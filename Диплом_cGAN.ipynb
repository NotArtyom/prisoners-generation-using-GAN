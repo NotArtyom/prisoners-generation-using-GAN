{
  "nbformat": 4,
  "nbformat_minor": 0,
  "metadata": {
    "colab": {
      "name": "Диплом cGAN.ipynb",
      "provenance": [],
      "collapsed_sections": [],
      "toc_visible": true
    },
    "kernelspec": {
      "name": "python3",
      "display_name": "Python 3"
    },
    "accelerator": "GPU"
  },
  "cells": [
    {
      "cell_type": "code",
      "source": [
        "!pip install tensorflow-gpu==1.15.2\n",
        "!pip install numpy==1.19.5\n",
        "!pip install keras==2.3.1"
      ],
      "metadata": {
        "id": "I_41MOiKCIbZ"
      },
      "execution_count": null,
      "outputs": []
    },
    {
      "cell_type": "markdown",
      "metadata": {
        "id": "WXaIQ1h43Nng"
      },
      "source": [
        "# Data"
      ]
    },
    {
      "cell_type": "code",
      "metadata": {
        "id": "nKjXZwy2fIwU"
      },
      "source": [
        "from google.colab import drive\n",
        "drive.mount('/content/drive')\n",
        "!unzip /content/drive/MyDrive/Диплом/data.zip"
      ],
      "execution_count": null,
      "outputs": []
    },
    {
      "cell_type": "markdown",
      "metadata": {
        "id": "oRevz6hY2VMf"
      },
      "source": [
        "## Preprocessing dataset"
      ]
    },
    {
      "cell_type": "code",
      "metadata": {
        "id": "cuDHlRi22Umu"
      },
      "source": [
        "def load_data(path):\n",
        "  labels = pd.read_csv(os.path.join(path, 'labels_utf8.csv'), header=0, index_col=None, squeeze=True)\n",
        "  #labels = labels[labels[\"Sex Offender\"] == True]\n",
        "  labels = labels[labels[\"Race\"] != \"Not Available\"]\n",
        "  labels = labels[labels[\"Race\"] != \"Bi-Racial\"]\n",
        "  labels = labels[[\"ID\", \"Sex\", \"Race\"]]\n",
        "  sex_to_idx = {'Female': 1, 'Male': 0}\n",
        "  race_to_idx = {'Amer Indian': 0,\n",
        "                'Asian': 0.25,\n",
        "                'Black': 0.5,\n",
        "                'Hispanic': 0.75,\n",
        "                'White': 1}\n",
        "  labels = labels.replace({\"Sex\": sex_to_idx})\n",
        "  labels = labels.replace({\"Race\": race_to_idx})\n",
        "  files = os.listdir(os.path.join(path, 'front'))\n",
        "  imgs=[]\n",
        "  for i in range(len(files)):\n",
        "    if \".DS_Store\" in files[i]:\n",
        "      continue\n",
        "    if \"MACOSX\" in files[i]:\n",
        "      continue\n",
        "    imgs.append(files[i])\n",
        "  X = []\n",
        "  y = []\n",
        "  print(int(len(imgs)/3))\n",
        "  for i in range(int(len(imgs)/3)):\n",
        "    front_image = Image.open(os.path.join(path, 'front/', imgs[i]))\n",
        "    front_image = front_image.convert('RGB')\n",
        "    front_image = front_image.resize((128,128))\n",
        "    front_image = np.array(front_image)\n",
        "    id = imgs[i][:6]\n",
        "    try:\n",
        "      d = labels[labels.ID == id].values.tolist()[0][1:]\n",
        "    except IndexError:\n",
        "      continue\n",
        "    X.append(front_image)\n",
        "    y.append(d)\n",
        "  return np.array(X), np.array(y)\n",
        "\n",
        "def load_real_samples():\n",
        "  X, trainy = load_data(\"data/\")\n",
        "\n",
        "  X = X.astype('float32')\n",
        "  # scale from [0,255] to [-1,1]\n",
        "  X = (X - 127.5) / 127.5\n",
        "  return [X, trainy]"
      ],
      "execution_count": null,
      "outputs": []
    },
    {
      "cell_type": "markdown",
      "metadata": {
        "id": "fPQseUpa2bHz"
      },
      "source": [
        "# Model definition"
      ]
    },
    {
      "cell_type": "code",
      "metadata": {
        "id": "yAXYp2iE2lTd"
      },
      "source": [
        "import pandas as pd\n",
        "import os\n",
        "from matplotlib import pyplot\n",
        "import numpy as np\n",
        "from numpy import expand_dims\n",
        "from PIL import Image\n",
        "from numpy import zeros\n",
        "from numpy import ones\n",
        "from numpy.random import randn\n",
        "from numpy.random import randint\n",
        "from keras.optimizers import Adam\n",
        "from keras.models import Model\n",
        "from keras.layers import Input\n",
        "from keras.layers import Dense\n",
        "from keras.layers import Reshape\n",
        "from keras.layers import Flatten\n",
        "from keras.layers import BatchNormalization\n",
        "from keras.layers import Conv2D\n",
        "from keras.layers import Conv2DTranspose\n",
        "from keras.layers import LeakyReLU\n",
        "from keras.layers import Dropout\n",
        "from keras.layers import Embedding\n",
        "from keras.layers import Concatenate\n",
        "import tensorflow as tf"
      ],
      "execution_count": null,
      "outputs": []
    },
    {
      "cell_type": "markdown",
      "metadata": {
        "id": "Uywgpn8c2ii_"
      },
      "source": [
        "## Descriminator"
      ]
    },
    {
      "cell_type": "code",
      "metadata": {
        "id": "CPpjXXd22q6Z"
      },
      "source": [
        "def define_discriminator(in_shape=(128, 128, 3), n_classes=10):\n",
        "    # label input\n",
        "    in_label = Input(shape=(2,))\n",
        "    # embedding for categorical input\n",
        "    li = Embedding(n_classes, 50)(in_label)\n",
        "    # scale up to image dimensions with linear activation\n",
        "    n_nodes = int(in_shape[0] * in_shape[1] * in_shape[2]/2)\n",
        "    li = Dense(n_nodes)(li)\n",
        "    # reshape to additional channel\n",
        "    li = Reshape((in_shape[0], in_shape[1], in_shape[2]))(li)\n",
        "    # image input\n",
        "    in_image = Input(shape=in_shape)\n",
        "    # concat label as a channel\n",
        "    merge = Concatenate()([in_image, li])\n",
        "    # downsample\n",
        "    fe = Conv2D(128, (6, 6), strides=(2, 2), padding='same')(merge)\n",
        "    fe = LeakyReLU(alpha=0.2)(fe)\n",
        "\n",
        "    fe = Flatten()(fe)\n",
        "    fe = Dropout(0.4)(fe)\n",
        "    # output\n",
        "    out_layer = Dense(1, activation='sigmoid')(fe)\n",
        "    # define model\n",
        "    model = Model([in_image, in_label], out_layer)\n",
        "    # compile model\n",
        "    opt = Adam(lr=0.0002, beta_1=0.5)\n",
        "    model.compile(loss='binary_crossentropy', optimizer=opt, metrics=['accuracy'])\n",
        "    print(model.summary())\n",
        "    return model"
      ],
      "execution_count": null,
      "outputs": []
    },
    {
      "cell_type": "markdown",
      "metadata": {
        "id": "huWZb01J2tGp"
      },
      "source": [
        "## Generator"
      ]
    },
    {
      "cell_type": "code",
      "metadata": {
        "id": "IRtOzgYD2vGT"
      },
      "source": [
        "def define_generator(latent_dim, n_classes=10):\n",
        "    dim = 32\n",
        "\n",
        "    in_label = Input(shape=(2,))\n",
        "\n",
        "    li = Embedding(n_classes, 50)(in_label)\n",
        "\n",
        "    n_nodes = int(dim * dim/2)\n",
        "    li = Dense(n_nodes)(li)\n",
        "\n",
        "    li = Reshape((dim, dim, 1))(li)\n",
        "\n",
        "    in_lat = Input(shape=(latent_dim,))\n",
        "\n",
        "    n_nodes = 128 * dim * dim\n",
        "    gen = Dense(n_nodes)(in_lat)\n",
        "    gen = LeakyReLU(alpha=0.2)(gen)\n",
        "    gen = Reshape((dim, dim, 128))(gen)\n",
        "\n",
        "    merge = Concatenate()([gen, li])\n",
        "\n",
        "    gen = Conv2DTranspose(128, (4, 4), strides=(2, 2), padding='same')(merge)\n",
        "    gen = LeakyReLU(alpha=0.2)(gen)\n",
        "\n",
        "    gen = Conv2DTranspose(128, (4, 4), strides=(2, 2), padding='same')(gen)\n",
        "    gen = LeakyReLU(alpha=0.2)(gen)\n",
        "\n",
        "    out_layer = Conv2D(3, (7, 7), activation='tanh', padding='same')(gen)\n",
        "\n",
        "    model = Model([in_lat, in_label], out_layer)\n",
        "    print(model.summary())\n",
        "    return model"
      ],
      "execution_count": null,
      "outputs": []
    },
    {
      "cell_type": "markdown",
      "metadata": {
        "id": "jQ1m2H2g206g"
      },
      "source": [
        "## GAN"
      ]
    },
    {
      "cell_type": "code",
      "metadata": {
        "id": "4MQaLOfH220X"
      },
      "source": [
        "def define_gan(g_model, d_model):\n",
        "    d_model.trainable = False\n",
        "\n",
        "    gen_noise, gen_label = g_model.input\n",
        "\n",
        "    gen_output = g_model.output\n",
        "\n",
        "    gan_output = d_model([gen_output, gen_label])\n",
        "\n",
        "    model = Model([gen_noise, gen_label], gan_output)\n",
        "\n",
        "    opt = Adam(lr=0.0002, beta_1=0.5)\n",
        "    model.compile(loss='binary_crossentropy', optimizer=opt)\n",
        "\n",
        "    return model"
      ],
      "execution_count": null,
      "outputs": []
    },
    {
      "cell_type": "markdown",
      "metadata": {
        "id": "rx7L1TUt26Lr"
      },
      "source": [
        "# Training"
      ]
    },
    {
      "cell_type": "code",
      "metadata": {
        "id": "RzLkV9Mg3B6W"
      },
      "source": [
        "def generate_real_samples(dataset, n_samples):\n",
        "    images, labels = dataset\n",
        "    ix = randint(0, images.shape[0], n_samples)\n",
        "    X, labels = images[ix], labels[ix]\n",
        "    y = ones((n_samples, 1))\n",
        "    return [X, labels], y\n",
        "\n",
        "\n",
        "def generate_latent_points(latent_dim, n_samples, n_classes=10):\n",
        "    x_input = randn(latent_dim * n_samples)\n",
        "    z_input = x_input.reshape(n_samples, latent_dim)\n",
        "    labels = []\n",
        "    for i in range(n_samples):\n",
        "      new_sex = np.random.randint(n_classes)\n",
        "      new_race = np.random.uniform(0,n_classes-1,1)[0]\n",
        "      labels.append(np.array([new_sex, new_race]))\n",
        "    labels = np.array(labels)\n",
        "    return [z_input, labels]\n",
        "\n",
        "\n",
        "def generate_fake_samples(generator, latent_dim, n_samples):\n",
        "    z_input, labels_input = generate_latent_points(latent_dim, n_samples)\n",
        "    images = generator.predict([z_input, labels_input])\n",
        "    y = zeros((n_samples, 1))\n",
        "    return [images, labels_input], y\n",
        "\n",
        "def plot_history(d1_hist, d2_hist, g_hist):\n",
        "\t# plot history\n",
        "\tpyplot.plot(d1_hist, label='crit_real')\n",
        "\tpyplot.plot(d2_hist, label='crit_fake')\n",
        "\tpyplot.plot(g_hist, label='gen')\n",
        "\tpyplot.legend()\n",
        "\tpyplot.savefig('plot_line_plot_loss.png')\n",
        "\tpyplot.close()\n",
        "\n",
        "\n",
        "# train the generator and discriminator\n",
        "def train(g_model, d_model, gan_model, dataset, latent_dim, n_epochs=600, n_batch=256):\n",
        "    bat_per_epo = int(dataset[0].shape[0] / n_batch)\n",
        "    half_batch = int(n_batch / 2)\n",
        "    c1_hist, c2_hist, g_hist = list(), list(), list()\n",
        "    for i in range(n_epochs):\n",
        "        for j in range(bat_per_epo):\n",
        "\n",
        "            [X_real, labels_real], y_real = generate_real_samples(dataset, half_batch)\n",
        "\n",
        "            d_loss1, _ = d_model.train_on_batch([X_real, labels_real], y_real)\n",
        "            c1_hist.append(d_loss1)\n",
        "\n",
        "            [X_fake, labels], y_fake = generate_fake_samples(g_model, latent_dim, half_batch)\n",
        "\n",
        "            d_loss2, _ = d_model.train_on_batch([X_fake, labels], y_fake)\n",
        "            c2_hist.append(d_loss2)\n",
        "            [z_input, labels_input] = generate_latent_points(latent_dim, n_batch)\n",
        "\n",
        "            y_gan = ones((n_batch, 1))\n",
        "\n",
        "            g_loss = gan_model.train_on_batch([z_input, labels_input], y_gan)\n",
        "            g_hist.append(g_loss)\n",
        "            print('>%d, %d/%d, d1=%.3f, d2=%.3f g=%.3f' %\n",
        "                  (i + 1, j + 1, bat_per_epo, d_loss1, d_loss2, g_loss))\n",
        "    # save the generator model\n",
        "    plot_history(c1_hist, c2_hist, g_hist)\n",
        "    g_model.save('cgan_generator.h5')"
      ],
      "execution_count": null,
      "outputs": []
    },
    {
      "cell_type": "code",
      "metadata": {
        "id": "ASXKXxR1s9KH",
        "outputId": "8c242519-9333-479e-bcb8-0c6665ad8607",
        "colab": {
          "base_uri": "https://localhost:8080/",
          "height": 1000
        }
      },
      "source": [
        "latent_dim = 100\n",
        "\n",
        "d_model = define_discriminator()\n",
        "\n",
        "g_model = define_generator(latent_dim)\n",
        "\n",
        "gan_model = define_gan(g_model, d_model)\n",
        "\n",
        "dataset = load_real_samples()\n",
        "\n",
        "train(g_model, d_model, gan_model, dataset, latent_dim, n_epochs=1000, n_batch=256)"
      ],
      "execution_count": null,
      "outputs": [
        {
          "output_type": "stream",
          "text": [
            "Model: \"model_10\"\n",
            "__________________________________________________________________________________________________\n",
            "Layer (type)                    Output Shape         Param #     Connected to                     \n",
            "==================================================================================================\n",
            "input_13 (InputLayer)           (None, 2)            0                                            \n",
            "__________________________________________________________________________________________________\n",
            "embedding_7 (Embedding)         (None, 2, 50)        500         input_13[0][0]                   \n",
            "__________________________________________________________________________________________________\n",
            "dense_13 (Dense)                (None, 2, 24576)     1253376     embedding_7[0][0]                \n",
            "__________________________________________________________________________________________________\n",
            "input_14 (InputLayer)           (None, 128, 128, 3)  0                                            \n",
            "__________________________________________________________________________________________________\n",
            "reshape_10 (Reshape)            (None, 128, 128, 3)  0           dense_13[0][0]                   \n",
            "__________________________________________________________________________________________________\n",
            "concatenate_7 (Concatenate)     (None, 128, 128, 6)  0           input_14[0][0]                   \n",
            "                                                                 reshape_10[0][0]                 \n",
            "__________________________________________________________________________________________________\n",
            "conv2d_9 (Conv2D)               (None, 64, 64, 128)  27776       concatenate_7[0][0]              \n",
            "__________________________________________________________________________________________________\n",
            "leaky_re_lu_15 (LeakyReLU)      (None, 64, 64, 128)  0           conv2d_9[0][0]                   \n",
            "__________________________________________________________________________________________________\n",
            "flatten_4 (Flatten)             (None, 524288)       0           leaky_re_lu_15[0][0]             \n",
            "__________________________________________________________________________________________________\n",
            "dropout_4 (Dropout)             (None, 524288)       0           flatten_4[0][0]                  \n",
            "__________________________________________________________________________________________________\n",
            "dense_14 (Dense)                (None, 1)            524289      dropout_4[0][0]                  \n",
            "==================================================================================================\n",
            "Total params: 1,805,941\n",
            "Trainable params: 1,805,941\n",
            "Non-trainable params: 0\n",
            "__________________________________________________________________________________________________\n",
            "None\n",
            "Model: \"model_11\"\n",
            "__________________________________________________________________________________________________\n",
            "Layer (type)                    Output Shape         Param #     Connected to                     \n",
            "==================================================================================================\n",
            "input_16 (InputLayer)           (None, 100)          0                                            \n",
            "__________________________________________________________________________________________________\n",
            "input_15 (InputLayer)           (None, 2)            0                                            \n",
            "__________________________________________________________________________________________________\n",
            "dense_16 (Dense)                (None, 131072)       13238272    input_16[0][0]                   \n",
            "__________________________________________________________________________________________________\n",
            "embedding_8 (Embedding)         (None, 2, 50)        500         input_15[0][0]                   \n",
            "__________________________________________________________________________________________________\n",
            "leaky_re_lu_16 (LeakyReLU)      (None, 131072)       0           dense_16[0][0]                   \n",
            "__________________________________________________________________________________________________\n",
            "dense_15 (Dense)                (None, 2, 512)       26112       embedding_8[0][0]                \n",
            "__________________________________________________________________________________________________\n",
            "reshape_12 (Reshape)            (None, 32, 32, 128)  0           leaky_re_lu_16[0][0]             \n",
            "__________________________________________________________________________________________________\n",
            "reshape_11 (Reshape)            (None, 32, 32, 1)    0           dense_15[0][0]                   \n",
            "__________________________________________________________________________________________________\n",
            "concatenate_8 (Concatenate)     (None, 32, 32, 129)  0           reshape_12[0][0]                 \n",
            "                                                                 reshape_11[0][0]                 \n",
            "__________________________________________________________________________________________________\n",
            "conv2d_transpose_7 (Conv2DTrans (None, 64, 64, 128)  264320      concatenate_8[0][0]              \n",
            "__________________________________________________________________________________________________\n",
            "leaky_re_lu_17 (LeakyReLU)      (None, 64, 64, 128)  0           conv2d_transpose_7[0][0]         \n",
            "__________________________________________________________________________________________________\n",
            "conv2d_transpose_8 (Conv2DTrans (None, 128, 128, 128 262272      leaky_re_lu_17[0][0]             \n",
            "__________________________________________________________________________________________________\n",
            "leaky_re_lu_18 (LeakyReLU)      (None, 128, 128, 128 0           conv2d_transpose_8[0][0]         \n",
            "__________________________________________________________________________________________________\n",
            "conv2d_10 (Conv2D)              (None, 128, 128, 3)  18819       leaky_re_lu_18[0][0]             \n",
            "==================================================================================================\n",
            "Total params: 13,810,295\n",
            "Trainable params: 13,810,295\n",
            "Non-trainable params: 0\n",
            "__________________________________________________________________________________________________\n",
            "None\n",
            "23336\n"
          ],
          "name": "stdout"
        }
      ]
    },
    {
      "cell_type": "markdown",
      "metadata": {
        "id": "k20BexWS3EzL"
      },
      "source": [
        "# Testing"
      ]
    },
    {
      "cell_type": "code",
      "metadata": {
        "id": "RNlvEhuglEP9",
        "outputId": "b2fc720e-7d61-4e0d-9f36-06d577ec595c",
        "colab": {
          "base_uri": "https://localhost:8080/",
          "height": 339
        }
      },
      "source": [
        "from numpy import asarray\n",
        "from numpy.random import randn\n",
        "from numpy.random import randint\n",
        "from keras.models import load_model\n",
        "from matplotlib import pyplot as plt\n",
        "\n",
        "model = load_model('cgan_generator.h5')\n",
        "\n",
        "n_samples = 1\n",
        "latent_dim=100\n",
        "labels = np.array([np.array([1, 0])])\n",
        "\n",
        "x_input = randn(latent_dim * n_samples)\n",
        "z_input = x_input.reshape(n_samples, latent_dim)\n",
        "\n",
        "X  = model.predict([z_input, labels])\n",
        "X = (X + 1) / 2.0\n",
        "\n",
        "plt.imshow(X[0, :, :, :])"
      ],
      "execution_count": null,
      "outputs": [
        {
          "output_type": "stream",
          "text": [
            "/usr/local/lib/python3.6/dist-packages/keras/engine/saving.py:310: UserWarning: No training configuration found in save file: the model was *not* compiled. Compile it manually.\n",
            "  warnings.warn('No training configuration found in save file: '\n"
          ],
          "name": "stderr"
        },
        {
          "output_type": "execute_result",
          "data": {
            "text/plain": [
              "<matplotlib.image.AxesImage at 0x7f3d147d0198>"
            ]
          },
          "metadata": {
            "tags": []
          },
          "execution_count": 8
        },
        {
          "output_type": "display_data",
          "data": {
            "image/png": "[encoded data removed]",
            "text/plain": [
              "<Figure size 432x288 with 1 Axes>"
            ]
          },
          "metadata": {
            "tags": []
          }
        }
      ]
    }
  ]
}